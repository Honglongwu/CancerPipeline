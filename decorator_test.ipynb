{
 "metadata": {
  "name": "",
  "signature": "sha256:50597d757a0ae90454a0350933c468091a1aa2949d1932ed7c4e48e2563a727a"
 },
 "nbformat": 3,
 "nbformat_minor": 0,
 "worksheets": [
  {
   "cells": [
    {
     "cell_type": "code",
     "collapsed": false,
     "input": [
      "import ruffus\n",
      "import sqlite3\n",
      "import functools"
     ],
     "language": "python",
     "metadata": {},
     "outputs": [],
     "prompt_number": 72
    },
    {
     "cell_type": "code",
     "collapsed": false,
     "input": [
      "def logger( f ):\n",
      "    @functools.wraps( f )\n",
      "    def wrapper( *args, **kwargs ):\n",
      "        print \"Calling f\", args, kwargs\n",
      "        v = f( *args, **kwargs )\n",
      "        print \"Connecting to SQL and entering\", v\n",
      "        return v\n",
      "    return wrapper\n",
      "\n",
      "@logger\n",
      "def printer(kwargs):\n",
      "    print \"Inside function doing stuff\"\n",
      "    kwargs[\"new_arg\"] = 666\n",
      "    #return kwargs(\n",
      "\n",
      "@logger\n",
      "def vcf2maf(kwargs):\n",
      "    infile = kwargs[\"infile\"]\n",
      "    outfile = kwargs[\"outfile\"]\n",
      "    \n",
      "    param1 = True\n",
      "    kwargs[\"param1\"] = param1\n",
      "    \n",
      "    print \"Doing vcf2maf transformation\"\n",
      "    \n",
      "    return kwargs\n",
      "    "
     ],
     "language": "python",
     "metadata": {},
     "outputs": [],
     "prompt_number": 105
    },
    {
     "cell_type": "code",
     "collapsed": false,
     "input": [
      "kwargs = dict(x=1,\n",
      "              y=2,\n",
      "              z=3)\n",
      "\n",
      "out = printer(kwargs)"
     ],
     "language": "python",
     "metadata": {},
     "outputs": [
      {
       "output_type": "stream",
       "stream": "stdout",
       "text": [
        "Calling f ({'y': 2, 'x': 1, 'z': 3},) {}\n",
        "Inside function doing stuff\n",
        "Connecting to SQL and entering None\n"
       ]
      }
     ],
     "prompt_number": 102
    },
    {
     "cell_type": "code",
     "collapsed": false,
     "input": [
      "kwargs = dict(infile=\"in.vcf\",\n",
      "              outfile=\"out.maf\")\n",
      "\n",
      "_ = vcf2maf(kwargs)"
     ],
     "language": "python",
     "metadata": {},
     "outputs": [
      {
       "output_type": "stream",
       "stream": "stdout",
       "text": [
        "Calling f ({'outfile': 'out.maf', 'infile': 'in.vcf'},) {}\n",
        "Doing vcf2maf transformation\n",
        "Connecting to SQL and entering {'outfile': 'out.maf', 'infile': 'in.vcf', 'param1': True}\n"
       ]
      }
     ],
     "prompt_number": 104
    },
    {
     "cell_type": "code",
     "collapsed": false,
     "input": [],
     "language": "python",
     "metadata": {},
     "outputs": []
    }
   ],
   "metadata": {}
  }
 ]
}